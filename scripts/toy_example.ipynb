{
 "cells": [
  {
   "cell_type": "markdown",
   "id": "b918db02-75d1-43d0-8c1b-15e721290b26",
   "metadata": {},
   "source": [
    "# Toy Example"
   ]
  },
  {
   "cell_type": "code",
   "execution_count": 1,
   "id": "49bfd387-9de4-4ecf-92e3-bb66cf23708e",
   "metadata": {},
   "outputs": [],
   "source": [
    "# toy example\n",
    "import multiprocessing as mp\n",
    "import numpy as np\n",
    "import time as tm\n",
    "from tqdm import tqdm"
   ]
  },
  {
   "cell_type": "code",
   "execution_count": 2,
   "id": "1c3ccfbc-3808-42e8-8d86-eaa28a0d14d0",
   "metadata": {},
   "outputs": [],
   "source": [
    "def func(a):\n",
    "    for k1 in range(1000):\n",
    "        a = a*1\n",
    "        for k2 in range(100):\n",
    "            a = a*1\n",
    "            for k3 in range(100):\n",
    "                a = a*1\n",
    "    return a"
   ]
  },
  {
   "cell_type": "code",
   "execution_count": 3,
   "id": "d4a1a6e5-a264-4154-a9f6-250a4e004476",
   "metadata": {},
   "outputs": [
    {
     "name": "stdout",
     "output_type": "stream",
     "text": [
      "CPU times: user 247 ms, sys: 3.96 ms, total: 250 ms\n",
      "Wall time: 249 ms\n"
     ]
    },
    {
     "data": {
      "text/plain": [
       "0"
      ]
     },
     "execution_count": 3,
     "metadata": {},
     "output_type": "execute_result"
    }
   ],
   "source": [
    "%%time\n",
    "func(0)"
   ]
  },
  {
   "cell_type": "code",
   "execution_count": 5,
   "id": "4b136e2a-d4ae-4bde-97d7-d9bdca8747b6",
   "metadata": {},
   "outputs": [
    {
     "data": {
      "text/plain": [
       "72"
      ]
     },
     "execution_count": 5,
     "metadata": {},
     "output_type": "execute_result"
    }
   ],
   "source": [
    "num_processes = mp.cpu_count()\n",
    "num_processes"
   ]
  },
  {
   "cell_type": "code",
   "execution_count": 6,
   "id": "dc5c2e40-e80f-401c-8616-0e415f13a8dd",
   "metadata": {},
   "outputs": [
    {
     "name": "stderr",
     "output_type": "stream",
     "text": [
      "100%|██████████| 288/288 [00:12<00:00, 23.80it/s]"
     ]
    },
    {
     "name": "stdout",
     "output_type": "stream",
     "text": [
      "0\n"
     ]
    },
    {
     "name": "stderr",
     "output_type": "stream",
     "text": [
      "\n"
     ]
    }
   ],
   "source": [
    "k = list(np.arange(72*4))\n",
    "chunksize=1\n",
    "\n",
    "Pool = mp.Pool(processes = num_processes)\n",
    "\n",
    "result = list(\n",
    "    tqdm(\n",
    "        Pool.imap(\n",
    "            func,\n",
    "            k,\n",
    "            chunksize),\n",
    "        total=len(k)\n",
    "    )\n",
    ")\n",
    "\n",
    "\n",
    "Pool.close()\n",
    "\n",
    "print(result[0])"
   ]
  },
  {
   "cell_type": "code",
   "execution_count": null,
   "id": "b9d9e2a9-2adb-489e-bcf4-5cd736485485",
   "metadata": {},
   "outputs": [],
   "source": []
  }
 ],
 "metadata": {
  "kernelspec": {
   "display_name": "Python 3",
   "language": "python",
   "name": "python3"
  },
  "language_info": {
   "codemirror_mode": {
    "name": "ipython",
    "version": 3
   },
   "file_extension": ".py",
   "mimetype": "text/x-python",
   "name": "python",
   "nbconvert_exporter": "python",
   "pygments_lexer": "ipython3",
   "version": "3.9.7"
  }
 },
 "nbformat": 4,
 "nbformat_minor": 5
}
